{
 "cells": [
  {
   "cell_type": "markdown",
   "id": "7c5f215f",
   "metadata": {},
   "source": []
  },
  {
   "cell_type": "code",
   "execution_count": 1,
   "id": "a5bb1ff1",
   "metadata": {},
   "outputs": [],
   "source": [
    "import requests\n",
    "from IPython.core.display import HTML"
   ]
  },
  {
   "cell_type": "code",
   "execution_count": 126,
   "id": "253da949",
   "metadata": {},
   "outputs": [],
   "source": [
    "import pandas as pd\n",
    "import numpy as np\n",
    "import seaborn as sns\n",
    "import matplotlib.pyplot as plt\n",
    "from prettytable import PrettyTable\n",
    "from sklearn.model_selection import train_test_split\n",
    "from sklearn.metrics import roc_auc_score, classification_report, auc\n",
    "from sklearn.metrics import accuracy_score\n",
    "from sklearn.model_selection import GridSearchCV\n",
    "from sklearn.linear_model import LogisticRegression\n",
    "from sklearn.ensemble import RandomForestClassifier\n",
    "from sklearn.model_selection import train_test_split\n",
    "from sklearn.model_selection import train_test_split\n",
    "from sklearn.metrics import accuracy_score, precision_score, recall_score\n",
    "from sklearn.metrics import f1_score, confusion_matrix, precision_recall_curve, roc_curve\n",
    "from sklearn.preprocessing import StandardScaler\n",
    "from imblearn.over_sampling import SMOTE\n",
    "from sklearn.feature_selection import VarianceThreshold\n",
    "from sklearn.ensemble import GradientBoostingClassifier\n",
    "from sklearn.tree import DecisionTreeClassifier\n",
    "from sklearn.ensemble import AdaBoostClassifier\n",
    "import xgboost as xgb\n",
    "import warnings\n",
    "warnings.filterwarnings('ignore')\n",
    "%matplotlib inline"
   ]
  },
  {
   "cell_type": "code",
   "execution_count": 3,
   "id": "c0a67f12",
   "metadata": {},
   "outputs": [
    {
     "data": {
      "text/html": [
       "<div>\n",
       "<style scoped>\n",
       "    .dataframe tbody tr th:only-of-type {\n",
       "        vertical-align: middle;\n",
       "    }\n",
       "\n",
       "    .dataframe tbody tr th {\n",
       "        vertical-align: top;\n",
       "    }\n",
       "\n",
       "    .dataframe thead th {\n",
       "        text-align: right;\n",
       "    }\n",
       "</style>\n",
       "<table border=\"1\" class=\"dataframe\">\n",
       "  <thead>\n",
       "    <tr style=\"text-align: right;\">\n",
       "      <th></th>\n",
       "      <th>ID</th>\n",
       "      <th>var3</th>\n",
       "      <th>var15</th>\n",
       "      <th>imp_ent_var16_ult1</th>\n",
       "      <th>imp_op_var39_comer_ult1</th>\n",
       "      <th>imp_op_var39_comer_ult3</th>\n",
       "      <th>imp_op_var40_comer_ult1</th>\n",
       "      <th>imp_op_var40_comer_ult3</th>\n",
       "      <th>imp_op_var40_efect_ult1</th>\n",
       "      <th>imp_op_var40_efect_ult3</th>\n",
       "      <th>...</th>\n",
       "      <th>saldo_medio_var33_hace2</th>\n",
       "      <th>saldo_medio_var33_hace3</th>\n",
       "      <th>saldo_medio_var33_ult1</th>\n",
       "      <th>saldo_medio_var33_ult3</th>\n",
       "      <th>saldo_medio_var44_hace2</th>\n",
       "      <th>saldo_medio_var44_hace3</th>\n",
       "      <th>saldo_medio_var44_ult1</th>\n",
       "      <th>saldo_medio_var44_ult3</th>\n",
       "      <th>var38</th>\n",
       "      <th>TARGET</th>\n",
       "    </tr>\n",
       "  </thead>\n",
       "  <tbody>\n",
       "    <tr>\n",
       "      <th>0</th>\n",
       "      <td>1</td>\n",
       "      <td>2</td>\n",
       "      <td>23</td>\n",
       "      <td>0.0</td>\n",
       "      <td>0.0</td>\n",
       "      <td>0.0</td>\n",
       "      <td>0.0</td>\n",
       "      <td>0.0</td>\n",
       "      <td>0.0</td>\n",
       "      <td>0.0</td>\n",
       "      <td>...</td>\n",
       "      <td>0.0</td>\n",
       "      <td>0.0</td>\n",
       "      <td>0.0</td>\n",
       "      <td>0.0</td>\n",
       "      <td>0.0</td>\n",
       "      <td>0.0</td>\n",
       "      <td>0.0</td>\n",
       "      <td>0.0</td>\n",
       "      <td>39205.170000</td>\n",
       "      <td>0</td>\n",
       "    </tr>\n",
       "    <tr>\n",
       "      <th>1</th>\n",
       "      <td>3</td>\n",
       "      <td>2</td>\n",
       "      <td>34</td>\n",
       "      <td>0.0</td>\n",
       "      <td>0.0</td>\n",
       "      <td>0.0</td>\n",
       "      <td>0.0</td>\n",
       "      <td>0.0</td>\n",
       "      <td>0.0</td>\n",
       "      <td>0.0</td>\n",
       "      <td>...</td>\n",
       "      <td>0.0</td>\n",
       "      <td>0.0</td>\n",
       "      <td>0.0</td>\n",
       "      <td>0.0</td>\n",
       "      <td>0.0</td>\n",
       "      <td>0.0</td>\n",
       "      <td>0.0</td>\n",
       "      <td>0.0</td>\n",
       "      <td>49278.030000</td>\n",
       "      <td>0</td>\n",
       "    </tr>\n",
       "    <tr>\n",
       "      <th>2</th>\n",
       "      <td>4</td>\n",
       "      <td>2</td>\n",
       "      <td>23</td>\n",
       "      <td>0.0</td>\n",
       "      <td>0.0</td>\n",
       "      <td>0.0</td>\n",
       "      <td>0.0</td>\n",
       "      <td>0.0</td>\n",
       "      <td>0.0</td>\n",
       "      <td>0.0</td>\n",
       "      <td>...</td>\n",
       "      <td>0.0</td>\n",
       "      <td>0.0</td>\n",
       "      <td>0.0</td>\n",
       "      <td>0.0</td>\n",
       "      <td>0.0</td>\n",
       "      <td>0.0</td>\n",
       "      <td>0.0</td>\n",
       "      <td>0.0</td>\n",
       "      <td>67333.770000</td>\n",
       "      <td>0</td>\n",
       "    </tr>\n",
       "    <tr>\n",
       "      <th>3</th>\n",
       "      <td>8</td>\n",
       "      <td>2</td>\n",
       "      <td>37</td>\n",
       "      <td>0.0</td>\n",
       "      <td>195.0</td>\n",
       "      <td>195.0</td>\n",
       "      <td>0.0</td>\n",
       "      <td>0.0</td>\n",
       "      <td>0.0</td>\n",
       "      <td>0.0</td>\n",
       "      <td>...</td>\n",
       "      <td>0.0</td>\n",
       "      <td>0.0</td>\n",
       "      <td>0.0</td>\n",
       "      <td>0.0</td>\n",
       "      <td>0.0</td>\n",
       "      <td>0.0</td>\n",
       "      <td>0.0</td>\n",
       "      <td>0.0</td>\n",
       "      <td>64007.970000</td>\n",
       "      <td>0</td>\n",
       "    </tr>\n",
       "    <tr>\n",
       "      <th>4</th>\n",
       "      <td>10</td>\n",
       "      <td>2</td>\n",
       "      <td>39</td>\n",
       "      <td>0.0</td>\n",
       "      <td>0.0</td>\n",
       "      <td>0.0</td>\n",
       "      <td>0.0</td>\n",
       "      <td>0.0</td>\n",
       "      <td>0.0</td>\n",
       "      <td>0.0</td>\n",
       "      <td>...</td>\n",
       "      <td>0.0</td>\n",
       "      <td>0.0</td>\n",
       "      <td>0.0</td>\n",
       "      <td>0.0</td>\n",
       "      <td>0.0</td>\n",
       "      <td>0.0</td>\n",
       "      <td>0.0</td>\n",
       "      <td>0.0</td>\n",
       "      <td>117310.979016</td>\n",
       "      <td>0</td>\n",
       "    </tr>\n",
       "  </tbody>\n",
       "</table>\n",
       "<p>5 rows × 371 columns</p>\n",
       "</div>"
      ],
      "text/plain": [
       "   ID  var3  var15  imp_ent_var16_ult1  imp_op_var39_comer_ult1  \\\n",
       "0   1     2     23                 0.0                      0.0   \n",
       "1   3     2     34                 0.0                      0.0   \n",
       "2   4     2     23                 0.0                      0.0   \n",
       "3   8     2     37                 0.0                    195.0   \n",
       "4  10     2     39                 0.0                      0.0   \n",
       "\n",
       "   imp_op_var39_comer_ult3  imp_op_var40_comer_ult1  imp_op_var40_comer_ult3  \\\n",
       "0                      0.0                      0.0                      0.0   \n",
       "1                      0.0                      0.0                      0.0   \n",
       "2                      0.0                      0.0                      0.0   \n",
       "3                    195.0                      0.0                      0.0   \n",
       "4                      0.0                      0.0                      0.0   \n",
       "\n",
       "   imp_op_var40_efect_ult1  imp_op_var40_efect_ult3  ...  \\\n",
       "0                      0.0                      0.0  ...   \n",
       "1                      0.0                      0.0  ...   \n",
       "2                      0.0                      0.0  ...   \n",
       "3                      0.0                      0.0  ...   \n",
       "4                      0.0                      0.0  ...   \n",
       "\n",
       "   saldo_medio_var33_hace2  saldo_medio_var33_hace3  saldo_medio_var33_ult1  \\\n",
       "0                      0.0                      0.0                     0.0   \n",
       "1                      0.0                      0.0                     0.0   \n",
       "2                      0.0                      0.0                     0.0   \n",
       "3                      0.0                      0.0                     0.0   \n",
       "4                      0.0                      0.0                     0.0   \n",
       "\n",
       "   saldo_medio_var33_ult3  saldo_medio_var44_hace2  saldo_medio_var44_hace3  \\\n",
       "0                     0.0                      0.0                      0.0   \n",
       "1                     0.0                      0.0                      0.0   \n",
       "2                     0.0                      0.0                      0.0   \n",
       "3                     0.0                      0.0                      0.0   \n",
       "4                     0.0                      0.0                      0.0   \n",
       "\n",
       "   saldo_medio_var44_ult1  saldo_medio_var44_ult3          var38  TARGET  \n",
       "0                     0.0                     0.0   39205.170000       0  \n",
       "1                     0.0                     0.0   49278.030000       0  \n",
       "2                     0.0                     0.0   67333.770000       0  \n",
       "3                     0.0                     0.0   64007.970000       0  \n",
       "4                     0.0                     0.0  117310.979016       0  \n",
       "\n",
       "[5 rows x 371 columns]"
      ]
     },
     "execution_count": 3,
     "metadata": {},
     "output_type": "execute_result"
    }
   ],
   "source": [
    "cus_train_df = pd.read_csv('train.csv')\n",
    "cus_train_df.head()"
   ]
  },
  {
   "cell_type": "markdown",
   "id": "3daac1e0",
   "metadata": {},
   "source": [
    "# `Exploratory Data Analysis`\n",
    "\n",
    "\n",
    "-    [1 - Check The Dataframe for NULL values](#first-bullet)\n",
    "-    [2 - Check The Distribution of `Target` Variable](#second-bullet)\n",
    "-    [3 - Check for Outliers](#third-bullet)"
   ]
  },
  {
   "cell_type": "code",
   "execution_count": 4,
   "id": "c7c6ced8",
   "metadata": {},
   "outputs": [
    {
     "name": "stdout",
     "output_type": "stream",
     "text": [
      "The Training DataFrame has 76020 rows and 371 columns \n"
     ]
    }
   ],
   "source": [
    "print(f\"The Training DataFrame has {cus_train_df.shape[0]} rows and {cus_train_df.shape[1]} columns \")"
   ]
  },
  {
   "cell_type": "markdown",
   "id": "9c272f75",
   "metadata": {},
   "source": [
    "<a class=\"anchor\" id=\"first-bullet\"></a>\n",
    "### 1 -  Checking for NULL values"
   ]
  },
  {
   "cell_type": "code",
   "execution_count": 5,
   "id": "bb4af1fb",
   "metadata": {},
   "outputs": [],
   "source": [
    "# For train set\n",
    "for col in cus_train_df.columns:\n",
    "    if cus_train_df[col].isnull().sum()!=0:\n",
    "        print(col, cus_train_df[col].isnull().sum())"
   ]
  },
  {
   "cell_type": "markdown",
   "id": "d9627072",
   "metadata": {},
   "source": [
    "**We didn't find any column consisting NULL values**"
   ]
  },
  {
   "cell_type": "markdown",
   "id": "8e64cfdc",
   "metadata": {},
   "source": [
    "<a class=\"anchor\" id=\"second-bullet\"></a>\n",
    "### 2 -  Check the distribution of the target variable "
   ]
  },
  {
   "cell_type": "code",
   "execution_count": 6,
   "id": "7bf181f1",
   "metadata": {
    "scrolled": false
   },
   "outputs": [
    {
     "data": {
      "image/png": "[encoded data removed]",
      "text/plain": [
       "<Figure size 720x288 with 2 Axes>"
      ]
     },
     "metadata": {
      "needs_background": "light"
     },
     "output_type": "display_data"
    }
   ],
   "source": [
    "# Drwa pie chart and bar plots to check the ditribution of the response(TARGET) variable\n",
    "fig, ax = plt.subplots(nrows=1, ncols=2, figsize=(10, 4))\n",
    "cus_train_df['TARGET'].value_counts().plot.pie(autopct='%1.1f%%',\n",
    "                                                   ax=ax[0], shadow=True)\n",
    "ax[1] = cus_train_df['TARGET'].value_counts().plot.bar(color = ['#3274D7', '#E87529'])\n",
    "ax[1].set_xlabel(\"TARGET\")\n",
    "ax[1].set_ylabel(\"Count\")\n",
    "plt.show()"
   ]
  },
  {
   "cell_type": "markdown",
   "id": "f7100e37",
   "metadata": {},
   "source": [
    "**Clearly there is too much difference in between the two classes for the <font color='green'>TARGET</font> variable. So, in order to tackle this we would have to upsample the dataframe.** "
   ]
  },
  {
   "cell_type": "markdown",
   "id": "da91637b",
   "metadata": {},
   "source": [
    "<a class=\"anchor\" id=\"third-bullet\"></a>\n",
    "### 3 -  Check for Outliers"
   ]
  },
  {
   "cell_type": "code",
   "execution_count": 7,
   "id": "5873143c",
   "metadata": {
    "scrolled": false
   },
   "outputs": [
    {
     "data": {
      "text/html": [
       "<div>\n",
       "<style scoped>\n",
       "    .dataframe tbody tr th:only-of-type {\n",
       "        vertical-align: middle;\n",
       "    }\n",
       "\n",
       "    .dataframe tbody tr th {\n",
       "        vertical-align: top;\n",
       "    }\n",
       "\n",
       "    .dataframe thead th {\n",
       "        text-align: right;\n",
       "    }\n",
       "</style>\n",
       "<table border=\"1\" class=\"dataframe\">\n",
       "  <thead>\n",
       "    <tr style=\"text-align: right;\">\n",
       "      <th></th>\n",
       "      <th>ID</th>\n",
       "      <th>var3</th>\n",
       "      <th>var15</th>\n",
       "      <th>imp_ent_var16_ult1</th>\n",
       "      <th>imp_op_var39_comer_ult1</th>\n",
       "      <th>imp_op_var39_comer_ult3</th>\n",
       "      <th>imp_op_var40_comer_ult1</th>\n",
       "      <th>imp_op_var40_comer_ult3</th>\n",
       "      <th>imp_op_var40_efect_ult1</th>\n",
       "      <th>imp_op_var40_efect_ult3</th>\n",
       "      <th>...</th>\n",
       "      <th>saldo_medio_var33_hace2</th>\n",
       "      <th>saldo_medio_var33_hace3</th>\n",
       "      <th>saldo_medio_var33_ult1</th>\n",
       "      <th>saldo_medio_var33_ult3</th>\n",
       "      <th>saldo_medio_var44_hace2</th>\n",
       "      <th>saldo_medio_var44_hace3</th>\n",
       "      <th>saldo_medio_var44_ult1</th>\n",
       "      <th>saldo_medio_var44_ult3</th>\n",
       "      <th>var38</th>\n",
       "      <th>TARGET</th>\n",
       "    </tr>\n",
       "  </thead>\n",
       "  <tbody>\n",
       "    <tr>\n",
       "      <th>count</th>\n",
       "      <td>76020.000000</td>\n",
       "      <td>76020.000000</td>\n",
       "      <td>76020.000000</td>\n",
       "      <td>76020.000000</td>\n",
       "      <td>76020.000000</td>\n",
       "      <td>76020.000000</td>\n",
       "      <td>76020.000000</td>\n",
       "      <td>76020.000000</td>\n",
       "      <td>76020.000000</td>\n",
       "      <td>76020.000000</td>\n",
       "      <td>...</td>\n",
       "      <td>76020.000000</td>\n",
       "      <td>76020.000000</td>\n",
       "      <td>76020.000000</td>\n",
       "      <td>76020.000000</td>\n",
       "      <td>76020.000000</td>\n",
       "      <td>76020.000000</td>\n",
       "      <td>76020.000000</td>\n",
       "      <td>76020.000000</td>\n",
       "      <td>7.602000e+04</td>\n",
       "      <td>76020.000000</td>\n",
       "    </tr>\n",
       "    <tr>\n",
       "      <th>mean</th>\n",
       "      <td>75964.050723</td>\n",
       "      <td>-1523.199277</td>\n",
       "      <td>33.212865</td>\n",
       "      <td>86.208265</td>\n",
       "      <td>72.363067</td>\n",
       "      <td>119.529632</td>\n",
       "      <td>3.559130</td>\n",
       "      <td>6.472698</td>\n",
       "      <td>0.412946</td>\n",
       "      <td>0.567352</td>\n",
       "      <td>...</td>\n",
       "      <td>7.935824</td>\n",
       "      <td>1.365146</td>\n",
       "      <td>12.215580</td>\n",
       "      <td>8.784074</td>\n",
       "      <td>31.505324</td>\n",
       "      <td>1.858575</td>\n",
       "      <td>76.026165</td>\n",
       "      <td>56.614351</td>\n",
       "      <td>1.172358e+05</td>\n",
       "      <td>0.039569</td>\n",
       "    </tr>\n",
       "    <tr>\n",
       "      <th>std</th>\n",
       "      <td>43781.947379</td>\n",
       "      <td>39033.462364</td>\n",
       "      <td>12.956486</td>\n",
       "      <td>1614.757313</td>\n",
       "      <td>339.315831</td>\n",
       "      <td>546.266294</td>\n",
       "      <td>93.155749</td>\n",
       "      <td>153.737066</td>\n",
       "      <td>30.604864</td>\n",
       "      <td>36.513513</td>\n",
       "      <td>...</td>\n",
       "      <td>455.887218</td>\n",
       "      <td>113.959637</td>\n",
       "      <td>783.207399</td>\n",
       "      <td>538.439211</td>\n",
       "      <td>2013.125393</td>\n",
       "      <td>147.786584</td>\n",
       "      <td>4040.337842</td>\n",
       "      <td>2852.579397</td>\n",
       "      <td>1.826646e+05</td>\n",
       "      <td>0.194945</td>\n",
       "    </tr>\n",
       "    <tr>\n",
       "      <th>min</th>\n",
       "      <td>1.000000</td>\n",
       "      <td>-999999.000000</td>\n",
       "      <td>5.000000</td>\n",
       "      <td>0.000000</td>\n",
       "      <td>0.000000</td>\n",
       "      <td>0.000000</td>\n",
       "      <td>0.000000</td>\n",
       "      <td>0.000000</td>\n",
       "      <td>0.000000</td>\n",
       "      <td>0.000000</td>\n",
       "      <td>...</td>\n",
       "      <td>0.000000</td>\n",
       "      <td>0.000000</td>\n",
       "      <td>0.000000</td>\n",
       "      <td>0.000000</td>\n",
       "      <td>0.000000</td>\n",
       "      <td>0.000000</td>\n",
       "      <td>0.000000</td>\n",
       "      <td>0.000000</td>\n",
       "      <td>5.163750e+03</td>\n",
       "      <td>0.000000</td>\n",
       "    </tr>\n",
       "    <tr>\n",
       "      <th>25%</th>\n",
       "      <td>38104.750000</td>\n",
       "      <td>2.000000</td>\n",
       "      <td>23.000000</td>\n",
       "      <td>0.000000</td>\n",
       "      <td>0.000000</td>\n",
       "      <td>0.000000</td>\n",
       "      <td>0.000000</td>\n",
       "      <td>0.000000</td>\n",
       "      <td>0.000000</td>\n",
       "      <td>0.000000</td>\n",
       "      <td>...</td>\n",
       "      <td>0.000000</td>\n",
       "      <td>0.000000</td>\n",
       "      <td>0.000000</td>\n",
       "      <td>0.000000</td>\n",
       "      <td>0.000000</td>\n",
       "      <td>0.000000</td>\n",
       "      <td>0.000000</td>\n",
       "      <td>0.000000</td>\n",
       "      <td>6.787061e+04</td>\n",
       "      <td>0.000000</td>\n",
       "    </tr>\n",
       "    <tr>\n",
       "      <th>50%</th>\n",
       "      <td>76043.000000</td>\n",
       "      <td>2.000000</td>\n",
       "      <td>28.000000</td>\n",
       "      <td>0.000000</td>\n",
       "      <td>0.000000</td>\n",
       "      <td>0.000000</td>\n",
       "      <td>0.000000</td>\n",
       "      <td>0.000000</td>\n",
       "      <td>0.000000</td>\n",
       "      <td>0.000000</td>\n",
       "      <td>...</td>\n",
       "      <td>0.000000</td>\n",
       "      <td>0.000000</td>\n",
       "      <td>0.000000</td>\n",
       "      <td>0.000000</td>\n",
       "      <td>0.000000</td>\n",
       "      <td>0.000000</td>\n",
       "      <td>0.000000</td>\n",
       "      <td>0.000000</td>\n",
       "      <td>1.064092e+05</td>\n",
       "      <td>0.000000</td>\n",
       "    </tr>\n",
       "    <tr>\n",
       "      <th>75%</th>\n",
       "      <td>113748.750000</td>\n",
       "      <td>2.000000</td>\n",
       "      <td>40.000000</td>\n",
       "      <td>0.000000</td>\n",
       "      <td>0.000000</td>\n",
       "      <td>0.000000</td>\n",
       "      <td>0.000000</td>\n",
       "      <td>0.000000</td>\n",
       "      <td>0.000000</td>\n",
       "      <td>0.000000</td>\n",
       "      <td>...</td>\n",
       "      <td>0.000000</td>\n",
       "      <td>0.000000</td>\n",
       "      <td>0.000000</td>\n",
       "      <td>0.000000</td>\n",
       "      <td>0.000000</td>\n",
       "      <td>0.000000</td>\n",
       "      <td>0.000000</td>\n",
       "      <td>0.000000</td>\n",
       "      <td>1.187563e+05</td>\n",
       "      <td>0.000000</td>\n",
       "    </tr>\n",
       "    <tr>\n",
       "      <th>max</th>\n",
       "      <td>151838.000000</td>\n",
       "      <td>238.000000</td>\n",
       "      <td>105.000000</td>\n",
       "      <td>210000.000000</td>\n",
       "      <td>12888.030000</td>\n",
       "      <td>21024.810000</td>\n",
       "      <td>8237.820000</td>\n",
       "      <td>11073.570000</td>\n",
       "      <td>6600.000000</td>\n",
       "      <td>6600.000000</td>\n",
       "      <td>...</td>\n",
       "      <td>50003.880000</td>\n",
       "      <td>20385.720000</td>\n",
       "      <td>138831.630000</td>\n",
       "      <td>91778.730000</td>\n",
       "      <td>438329.220000</td>\n",
       "      <td>24650.010000</td>\n",
       "      <td>681462.900000</td>\n",
       "      <td>397884.300000</td>\n",
       "      <td>2.203474e+07</td>\n",
       "      <td>1.000000</td>\n",
       "    </tr>\n",
       "  </tbody>\n",
       "</table>\n",
       "<p>8 rows × 371 columns</p>\n",
       "</div>"
      ],
      "text/plain": [
       "                  ID           var3         var15  imp_ent_var16_ult1  \\\n",
       "count   76020.000000   76020.000000  76020.000000        76020.000000   \n",
       "mean    75964.050723   -1523.199277     33.212865           86.208265   \n",
       "std     43781.947379   39033.462364     12.956486         1614.757313   \n",
       "min         1.000000 -999999.000000      5.000000            0.000000   \n",
       "25%     38104.750000       2.000000     23.000000            0.000000   \n",
       "50%     76043.000000       2.000000     28.000000            0.000000   \n",
       "75%    113748.750000       2.000000     40.000000            0.000000   \n",
       "max    151838.000000     238.000000    105.000000       210000.000000   \n",
       "\n",
       "       imp_op_var39_comer_ult1  imp_op_var39_comer_ult3  \\\n",
       "count             76020.000000             76020.000000   \n",
       "mean                 72.363067               119.529632   \n",
       "std                 339.315831               546.266294   \n",
       "min                   0.000000                 0.000000   \n",
       "25%                   0.000000                 0.000000   \n",
       "50%                   0.000000                 0.000000   \n",
       "75%                   0.000000                 0.000000   \n",
       "max               12888.030000             21024.810000   \n",
       "\n",
       "       imp_op_var40_comer_ult1  imp_op_var40_comer_ult3  \\\n",
       "count             76020.000000             76020.000000   \n",
       "mean                  3.559130                 6.472698   \n",
       "std                  93.155749               153.737066   \n",
       "min                   0.000000                 0.000000   \n",
       "25%                   0.000000                 0.000000   \n",
       "50%                   0.000000                 0.000000   \n",
       "75%                   0.000000                 0.000000   \n",
       "max                8237.820000             11073.570000   \n",
       "\n",
       "       imp_op_var40_efect_ult1  imp_op_var40_efect_ult3  ...  \\\n",
       "count             76020.000000             76020.000000  ...   \n",
       "mean                  0.412946                 0.567352  ...   \n",
       "std                  30.604864                36.513513  ...   \n",
       "min                   0.000000                 0.000000  ...   \n",
       "25%                   0.000000                 0.000000  ...   \n",
       "50%                   0.000000                 0.000000  ...   \n",
       "75%                   0.000000                 0.000000  ...   \n",
       "max                6600.000000              6600.000000  ...   \n",
       "\n",
       "       saldo_medio_var33_hace2  saldo_medio_var33_hace3  \\\n",
       "count             76020.000000             76020.000000   \n",
       "mean                  7.935824                 1.365146   \n",
       "std                 455.887218               113.959637   \n",
       "min                   0.000000                 0.000000   \n",
       "25%                   0.000000                 0.000000   \n",
       "50%                   0.000000                 0.000000   \n",
       "75%                   0.000000                 0.000000   \n",
       "max               50003.880000             20385.720000   \n",
       "\n",
       "       saldo_medio_var33_ult1  saldo_medio_var33_ult3  \\\n",
       "count            76020.000000            76020.000000   \n",
       "mean                12.215580                8.784074   \n",
       "std                783.207399              538.439211   \n",
       "min                  0.000000                0.000000   \n",
       "25%                  0.000000                0.000000   \n",
       "50%                  0.000000                0.000000   \n",
       "75%                  0.000000                0.000000   \n",
       "max             138831.630000            91778.730000   \n",
       "\n",
       "       saldo_medio_var44_hace2  saldo_medio_var44_hace3  \\\n",
       "count             76020.000000             76020.000000   \n",
       "mean                 31.505324                 1.858575   \n",
       "std                2013.125393               147.786584   \n",
       "min                   0.000000                 0.000000   \n",
       "25%                   0.000000                 0.000000   \n",
       "50%                   0.000000                 0.000000   \n",
       "75%                   0.000000                 0.000000   \n",
       "max              438329.220000             24650.010000   \n",
       "\n",
       "       saldo_medio_var44_ult1  saldo_medio_var44_ult3         var38  \\\n",
       "count            76020.000000            76020.000000  7.602000e+04   \n",
       "mean                76.026165               56.614351  1.172358e+05   \n",
       "std               4040.337842             2852.579397  1.826646e+05   \n",
       "min                  0.000000                0.000000  5.163750e+03   \n",
       "25%                  0.000000                0.000000  6.787061e+04   \n",
       "50%                  0.000000                0.000000  1.064092e+05   \n",
       "75%                  0.000000                0.000000  1.187563e+05   \n",
       "max             681462.900000           397884.300000  2.203474e+07   \n",
       "\n",
       "             TARGET  \n",
       "count  76020.000000  \n",
       "mean       0.039569  \n",
       "std        0.194945  \n",
       "min        0.000000  \n",
       "25%        0.000000  \n",
       "50%        0.000000  \n",
       "75%        0.000000  \n",
       "max        1.000000  \n",
       "\n",
       "[8 rows x 371 columns]"
      ]
     },
     "execution_count": 7,
     "metadata": {},
     "output_type": "execute_result"
    }
   ],
   "source": [
    "cus_train_df.describe()"
   ]
  },
  {
   "cell_type": "code",
   "execution_count": 8,
   "id": "cf394d76",
   "metadata": {},
   "outputs": [
    {
     "data": {
      "text/plain": [
       "array([-999999.  ,   -4942.26,   -4942.26,   -4942.26,   -3401.34])"
      ]
     },
     "execution_count": 8,
     "metadata": {},
     "output_type": "execute_result"
    }
   ],
   "source": [
    "# Checking for minimum values for different columns \n",
    "described_df = cus_train_df.describe()\n",
    "# Printing top 5 least values in different columns\n",
    "np.sort(described_df.loc['min'])[0:5]"
   ]
  },
  {
   "cell_type": "code",
   "execution_count": 9,
   "id": "fb35b09a",
   "metadata": {},
   "outputs": [
    {
     "data": {
      "text/plain": [
       "ID                          43781.947379\n",
       "var3                        39033.462364\n",
       "var15                          12.956486\n",
       "imp_ent_var16_ult1           1614.757313\n",
       "imp_op_var39_comer_ult1       339.315831\n",
       "                               ...      \n",
       "saldo_medio_var44_hace3       147.786584\n",
       "saldo_medio_var44_ult1       4040.337842\n",
       "saldo_medio_var44_ult3       2852.579397\n",
       "var38                      182664.598503\n",
       "TARGET                          0.194945\n",
       "Name: std, Length: 371, dtype: float64"
      ]
     },
     "execution_count": 9,
     "metadata": {},
     "output_type": "execute_result"
    }
   ],
   "source": [
    "# Check the values of standard deviation\n",
    "described_df.loc['std']"
   ]
  },
  {
   "cell_type": "code",
   "execution_count": 10,
   "id": "d3d2a459",
   "metadata": {
    "scrolled": true
   },
   "outputs": [
    {
     "data": {
      "image/png": "[encoded data removed]",
      "text/plain": [
       "<Figure size 432x288 with 1 Axes>"
      ]
     },
     "metadata": {
      "needs_background": "light"
     },
     "output_type": "display_data"
    }
   ],
   "source": [
    "# plot a Boxplot to check the values for var3\n",
    "plt.boxplot(cus_train_df['var3'])\n",
    "plt.show()"
   ]
  },
  {
   "cell_type": "markdown",
   "id": "f86b069f",
   "metadata": {},
   "source": [
    "**Clearly `var3` has outliers as observed from the boxplot, but they actually signify Missing values**"
   ]
  },
  {
   "cell_type": "code",
   "execution_count": 11,
   "id": "26e1fb8a",
   "metadata": {
    "scrolled": true
   },
   "outputs": [
    {
     "data": {
      "image/png": "[encoded data removed]",
      "text/plain": [
       "<Figure size 432x288 with 1 Axes>"
      ]
     },
     "metadata": {
      "needs_background": "light"
     },
     "output_type": "display_data"
    }
   ],
   "source": [
    "# Check for var38 as it also has high variance\n",
    "# plot a Boxplot to check the values for var3\n",
    "plt.boxplot(cus_train_df['var38'])\n",
    "plt.show()"
   ]
  },
  {
   "cell_type": "markdown",
   "id": "c59719a2",
   "metadata": {},
   "source": [
    "# `Preprocessing and Feature Enginnering`\n",
    "\n",
    "\n",
    "-    [1 - Drop Unnecessary columns](#f1-bullet)\n",
    "    *  [1.1 - Drop Columns with constant values](#f1.1-bullet)\n",
    "    *  [1.2 - Remove Duplicate Columns from the Dataframe](#f1.2-bullet) \n",
    "-    [2 - Handle Ouliers & NAN values](#f2-bullet)  \n",
    "-    [3 - Define the Predictors and Response variable](#f3-bullet)\n",
    "-    [4 - Standarization and Splitting](#f4-bullet)\n",
    "-    [5 - Upsampling](#f5-bullet)"
   ]
  },
  {
   "cell_type": "markdown",
   "id": "f0f5eba7",
   "metadata": {},
   "source": [
    "<a class=\"anchor\" id=\"f1-bullet\"></a>\n",
    "### 1 -  Drop Unncessary columns"
   ]
  },
  {
   "cell_type": "code",
   "execution_count": 12,
   "id": "e35a2c7d",
   "metadata": {
    "scrolled": true
   },
   "outputs": [
    {
     "data": {
      "text/html": [
       "<div>\n",
       "<style scoped>\n",
       "    .dataframe tbody tr th:only-of-type {\n",
       "        vertical-align: middle;\n",
       "    }\n",
       "\n",
       "    .dataframe tbody tr th {\n",
       "        vertical-align: top;\n",
       "    }\n",
       "\n",
       "    .dataframe thead th {\n",
       "        text-align: right;\n",
       "    }\n",
       "</style>\n",
       "<table border=\"1\" class=\"dataframe\">\n",
       "  <thead>\n",
       "    <tr style=\"text-align: right;\">\n",
       "      <th></th>\n",
       "      <th>var3</th>\n",
       "      <th>var15</th>\n",
       "      <th>imp_ent_var16_ult1</th>\n",
       "      <th>imp_op_var39_comer_ult1</th>\n",
       "      <th>imp_op_var39_comer_ult3</th>\n",
       "      <th>imp_op_var40_comer_ult1</th>\n",
       "      <th>imp_op_var40_comer_ult3</th>\n",
       "      <th>imp_op_var40_efect_ult1</th>\n",
       "      <th>imp_op_var40_efect_ult3</th>\n",
       "      <th>imp_op_var40_ult1</th>\n",
       "      <th>...</th>\n",
       "      <th>saldo_medio_var33_hace2</th>\n",
       "      <th>saldo_medio_var33_hace3</th>\n",
       "      <th>saldo_medio_var33_ult1</th>\n",
       "      <th>saldo_medio_var33_ult3</th>\n",
       "      <th>saldo_medio_var44_hace2</th>\n",
       "      <th>saldo_medio_var44_hace3</th>\n",
       "      <th>saldo_medio_var44_ult1</th>\n",
       "      <th>saldo_medio_var44_ult3</th>\n",
       "      <th>var38</th>\n",
       "      <th>TARGET</th>\n",
       "    </tr>\n",
       "  </thead>\n",
       "  <tbody>\n",
       "    <tr>\n",
       "      <th>76015</th>\n",
       "      <td>2</td>\n",
       "      <td>48</td>\n",
       "      <td>0.0</td>\n",
       "      <td>0.0</td>\n",
       "      <td>0.0</td>\n",
       "      <td>0.0</td>\n",
       "      <td>0.0</td>\n",
       "      <td>0.0</td>\n",
       "      <td>0.0</td>\n",
       "      <td>0.0</td>\n",
       "      <td>...</td>\n",
       "      <td>0.0</td>\n",
       "      <td>0.0</td>\n",
       "      <td>0.0</td>\n",
       "      <td>0.0</td>\n",
       "      <td>0.0</td>\n",
       "      <td>0.0</td>\n",
       "      <td>0.0</td>\n",
       "      <td>0.0</td>\n",
       "      <td>60926.490000</td>\n",
       "      <td>0</td>\n",
       "    </tr>\n",
       "    <tr>\n",
       "      <th>76016</th>\n",
       "      <td>2</td>\n",
       "      <td>39</td>\n",
       "      <td>0.0</td>\n",
       "      <td>0.0</td>\n",
       "      <td>0.0</td>\n",
       "      <td>0.0</td>\n",
       "      <td>0.0</td>\n",
       "      <td>0.0</td>\n",
       "      <td>0.0</td>\n",
       "      <td>0.0</td>\n",
       "      <td>...</td>\n",
       "      <td>0.0</td>\n",
       "      <td>0.0</td>\n",
       "      <td>0.0</td>\n",
       "      <td>0.0</td>\n",
       "      <td>0.0</td>\n",
       "      <td>0.0</td>\n",
       "      <td>0.0</td>\n",
       "      <td>0.0</td>\n",
       "      <td>118634.520000</td>\n",
       "      <td>0</td>\n",
       "    </tr>\n",
       "    <tr>\n",
       "      <th>76017</th>\n",
       "      <td>2</td>\n",
       "      <td>23</td>\n",
       "      <td>0.0</td>\n",
       "      <td>0.0</td>\n",
       "      <td>0.0</td>\n",
       "      <td>0.0</td>\n",
       "      <td>0.0</td>\n",
       "      <td>0.0</td>\n",
       "      <td>0.0</td>\n",
       "      <td>0.0</td>\n",
       "      <td>...</td>\n",
       "      <td>0.0</td>\n",
       "      <td>0.0</td>\n",
       "      <td>0.0</td>\n",
       "      <td>0.0</td>\n",
       "      <td>0.0</td>\n",
       "      <td>0.0</td>\n",
       "      <td>0.0</td>\n",
       "      <td>0.0</td>\n",
       "      <td>74028.150000</td>\n",
       "      <td>0</td>\n",
       "    </tr>\n",
       "    <tr>\n",
       "      <th>76018</th>\n",
       "      <td>2</td>\n",
       "      <td>25</td>\n",
       "      <td>0.0</td>\n",
       "      <td>0.0</td>\n",
       "      <td>0.0</td>\n",
       "      <td>0.0</td>\n",
       "      <td>0.0</td>\n",
       "      <td>0.0</td>\n",
       "      <td>0.0</td>\n",
       "      <td>0.0</td>\n",
       "      <td>...</td>\n",
       "      <td>0.0</td>\n",
       "      <td>0.0</td>\n",
       "      <td>0.0</td>\n",
       "      <td>0.0</td>\n",
       "      <td>0.0</td>\n",
       "      <td>0.0</td>\n",
       "      <td>0.0</td>\n",
       "      <td>0.0</td>\n",
       "      <td>84278.160000</td>\n",
       "      <td>0</td>\n",
       "    </tr>\n",
       "    <tr>\n",
       "      <th>76019</th>\n",
       "      <td>2</td>\n",
       "      <td>46</td>\n",
       "      <td>0.0</td>\n",
       "      <td>0.0</td>\n",
       "      <td>0.0</td>\n",
       "      <td>0.0</td>\n",
       "      <td>0.0</td>\n",
       "      <td>0.0</td>\n",
       "      <td>0.0</td>\n",
       "      <td>0.0</td>\n",
       "      <td>...</td>\n",
       "      <td>0.0</td>\n",
       "      <td>0.0</td>\n",
       "      <td>0.0</td>\n",
       "      <td>0.0</td>\n",
       "      <td>0.0</td>\n",
       "      <td>0.0</td>\n",
       "      <td>0.0</td>\n",
       "      <td>0.0</td>\n",
       "      <td>117310.979016</td>\n",
       "      <td>0</td>\n",
       "    </tr>\n",
       "  </tbody>\n",
       "</table>\n",
       "<p>5 rows × 370 columns</p>\n",
       "</div>"
      ],
      "text/plain": [
       "       var3  var15  imp_ent_var16_ult1  imp_op_var39_comer_ult1  \\\n",
       "76015     2     48                 0.0                      0.0   \n",
       "76016     2     39                 0.0                      0.0   \n",
       "76017     2     23                 0.0                      0.0   \n",
       "76018     2     25                 0.0                      0.0   \n",
       "76019     2     46                 0.0                      0.0   \n",
       "\n",
       "       imp_op_var39_comer_ult3  imp_op_var40_comer_ult1  \\\n",
       "76015                      0.0                      0.0   \n",
       "76016                      0.0                      0.0   \n",
       "76017                      0.0                      0.0   \n",
       "76018                      0.0                      0.0   \n",
       "76019                      0.0                      0.0   \n",
       "\n",
       "       imp_op_var40_comer_ult3  imp_op_var40_efect_ult1  \\\n",
       "76015                      0.0                      0.0   \n",
       "76016                      0.0                      0.0   \n",
       "76017                      0.0                      0.0   \n",
       "76018                      0.0                      0.0   \n",
       "76019                      0.0                      0.0   \n",
       "\n",
       "       imp_op_var40_efect_ult3  imp_op_var40_ult1  ...  \\\n",
       "76015                      0.0                0.0  ...   \n",
       "76016                      0.0                0.0  ...   \n",
       "76017                      0.0                0.0  ...   \n",
       "76018                      0.0                0.0  ...   \n",
       "76019                      0.0                0.0  ...   \n",
       "\n",
       "       saldo_medio_var33_hace2  saldo_medio_var33_hace3  \\\n",
       "76015                      0.0                      0.0   \n",
       "76016                      0.0                      0.0   \n",
       "76017                      0.0                      0.0   \n",
       "76018                      0.0                      0.0   \n",
       "76019                      0.0                      0.0   \n",
       "\n",
       "       saldo_medio_var33_ult1  saldo_medio_var33_ult3  \\\n",
       "76015                     0.0                     0.0   \n",
       "76016                     0.0                     0.0   \n",
       "76017                     0.0                     0.0   \n",
       "76018                     0.0                     0.0   \n",
       "76019                     0.0                     0.0   \n",
       "\n",
       "       saldo_medio_var44_hace2  saldo_medio_var44_hace3  \\\n",
       "76015                      0.0                      0.0   \n",
       "76016                      0.0                      0.0   \n",
       "76017                      0.0                      0.0   \n",
       "76018                      0.0                      0.0   \n",
       "76019                      0.0                      0.0   \n",
       "\n",
       "       saldo_medio_var44_ult1  saldo_medio_var44_ult3          var38  TARGET  \n",
       "76015                     0.0                     0.0   60926.490000       0  \n",
       "76016                     0.0                     0.0  118634.520000       0  \n",
       "76017                     0.0                     0.0   74028.150000       0  \n",
       "76018                     0.0                     0.0   84278.160000       0  \n",
       "76019                     0.0                     0.0  117310.979016       0  \n",
       "\n",
       "[5 rows x 370 columns]"
      ]
     },
     "execution_count": 12,
     "metadata": {},
     "output_type": "execute_result"
    }
   ],
   "source": [
    "# ID column is not needed as it signifies the index\n",
    "# Drop \"ID\" column from the data frame\n",
    "cleaned_train_df = cus_train_df.copy()\n",
    "cleaned_train_df = cus_train_df.drop(['ID'], axis=1)\n",
    "cleaned_train_df.tail(5)"
   ]
  },
  {
   "cell_type": "markdown",
   "id": "f25dadaa",
   "metadata": {},
   "source": [
    "<a class=\"anchor\" id=\"f1.1-bullet\"></a>\n",
    "#### 1.1 -  Drop Columns with Constant Values"
   ]
  },
  {
   "cell_type": "code",
   "execution_count": 13,
   "id": "a3de2890",
   "metadata": {
    "scrolled": true
   },
   "outputs": [
    {
     "name": "stdout",
     "output_type": "stream",
     "text": [
      "The number of columns with constant value is: 34\n"
     ]
    }
   ],
   "source": [
    "# Variable to store columns with constant value throughout in a dataframe\n",
    "constant_columns = []\n",
    "for column in cleaned_train_df.columns:\n",
    "    #Check if the unique values of the rows in a column is equal to 1 \n",
    "    if cleaned_train_df[column].nunique()==1:\n",
    "        constant_columns.append(column)\n",
    "print(f\"The number of columns with constant value is: {len(constant_columns)}\")"
   ]
  },
  {
   "cell_type": "code",
   "execution_count": 14,
   "id": "b04f19bf",
   "metadata": {},
   "outputs": [
    {
     "name": "stdout",
     "output_type": "stream",
     "text": [
      "The cleaned DataFrame without constant columns has 76020 rows and 336 columns\n"
     ]
    }
   ],
   "source": [
    "# Drop Constant Valued Columns `stored in constant_columns`\n",
    "cleaned_train_df = cleaned_train_df.drop(labels=constant_columns, axis=1)\n",
    "print(f\"The cleaned DataFrame without constant columns has {cleaned_train_df.shape[0]} rows and {cleaned_train_df.shape[1]} columns\")"
   ]
  },
  {
   "cell_type": "markdown",
   "id": "88ca9239",
   "metadata": {},
   "source": [
    "<a class=\"anchor\" id=\"f1.2-bullet\"></a>\n",
    "#### 1.2 -  Drop Duplicate Columns"
   ]
  },
  {
   "cell_type": "code",
   "execution_count": 15,
   "id": "aae0f04e",
   "metadata": {},
   "outputs": [
    {
     "name": "stdout",
     "output_type": "stream",
     "text": [
      "The DataFrame has 29 duplicate columns\n"
     ]
    }
   ],
   "source": [
    "# Check for Duplicate Columns\n",
    "duplicated_col = cleaned_train_df.columns[cleaned_train_df.T.duplicated()]\n",
    "print(f\"The DataFrame has {len(duplicated_col)} duplicate columns\")"
   ]
  },
  {
   "cell_type": "code",
   "execution_count": 16,
   "id": "5f25f42a",
   "metadata": {},
   "outputs": [
    {
     "name": "stdout",
     "output_type": "stream",
     "text": [
      "The cleaned DataFrame without duplicate columns has 76020 rows and 307 columns\n"
     ]
    }
   ],
   "source": [
    "# Drop Duplicate columns\n",
    "cleaned_train_df.drop(labels=duplicated_col, axis=1, inplace=True)\n",
    "print(f\"The cleaned DataFrame without duplicate columns has {cleaned_train_df.shape[0]} rows and {cleaned_train_df.shape[1]} columns\")"
   ]
  },
  {
   "cell_type": "markdown",
   "id": "639a9dee",
   "metadata": {},
   "source": [
    "#### 1.3 Drop columns with very less Variance"
   ]
  },
  {
   "cell_type": "code",
   "execution_count": 124,
   "id": "a3317da1",
   "metadata": {},
   "outputs": [
    {
     "name": "stdout",
     "output_type": "stream",
     "text": [
      "The number of columns with very less variance is 50\n",
      "The cleaned DataFrame without duplicate columns has 76020 rows and 256 columns\n"
     ]
    }
   ],
   "source": [
    "df_clean = cleaned_train_df.copy()\n",
    "# print(df_clean.shape)\n",
    "# Investigating for semi-constant features in the Dataframe\n",
    "\n",
    "# Removing all features that have variance under 0.01\n",
    "select_var = VarianceThreshold(threshold = 0.01)\n",
    "select_var.fit(df_clean)\n",
    "mask_clean = select_var.get_support()\n",
    "df_clean = df_clean[df_clean.columns[mask_clean]]\n",
    "\n",
    "# Cheking if we realy removed something\n",
    "print(f\"The number of columns with very less variance is {(len(cleaned_train_df.columns) - 1) - df_clean.shape[1]}\")\n",
    "print(f\"The cleaned DataFrame without duplicate columns has {df_clean.shape[0]} rows and {df_clean.shape[1]} columns\")"
   ]
  },
  {
   "cell_type": "markdown",
   "id": "6eecb1b2",
   "metadata": {},
   "source": [
    "<a class=\"anchor\" id=\"f2-bullet\"></a>\n",
    "#### 2 -  Handle Outliers and NAN values"
   ]
  },
  {
   "cell_type": "code",
   "execution_count": 21,
   "id": "78e29b76",
   "metadata": {
    "scrolled": true
   },
   "outputs": [
    {
     "data": {
      "text/html": [
       "<div>\n",
       "<style scoped>\n",
       "    .dataframe tbody tr th:only-of-type {\n",
       "        vertical-align: middle;\n",
       "    }\n",
       "\n",
       "    .dataframe tbody tr th {\n",
       "        vertical-align: top;\n",
       "    }\n",
       "\n",
       "    .dataframe thead th {\n",
       "        text-align: right;\n",
       "    }\n",
       "</style>\n",
       "<table border=\"1\" class=\"dataframe\">\n",
       "  <thead>\n",
       "    <tr style=\"text-align: right;\">\n",
       "      <th></th>\n",
       "      <th>var3</th>\n",
       "      <th>var15</th>\n",
       "      <th>imp_ent_var16_ult1</th>\n",
       "      <th>imp_op_var39_comer_ult1</th>\n",
       "      <th>imp_op_var39_comer_ult3</th>\n",
       "      <th>imp_op_var40_comer_ult1</th>\n",
       "      <th>imp_op_var40_comer_ult3</th>\n",
       "      <th>imp_op_var40_efect_ult1</th>\n",
       "      <th>imp_op_var40_efect_ult3</th>\n",
       "      <th>imp_op_var40_ult1</th>\n",
       "      <th>...</th>\n",
       "      <th>saldo_medio_var33_hace2</th>\n",
       "      <th>saldo_medio_var33_hace3</th>\n",
       "      <th>saldo_medio_var33_ult1</th>\n",
       "      <th>saldo_medio_var33_ult3</th>\n",
       "      <th>saldo_medio_var44_hace2</th>\n",
       "      <th>saldo_medio_var44_hace3</th>\n",
       "      <th>saldo_medio_var44_ult1</th>\n",
       "      <th>saldo_medio_var44_ult3</th>\n",
       "      <th>var38</th>\n",
       "      <th>TARGET</th>\n",
       "    </tr>\n",
       "  </thead>\n",
       "  <tbody>\n",
       "    <tr>\n",
       "      <th>count</th>\n",
       "      <td>76020.000000</td>\n",
       "      <td>76020.000000</td>\n",
       "      <td>76020.000000</td>\n",
       "      <td>76020.000000</td>\n",
       "      <td>76020.000000</td>\n",
       "      <td>76020.000000</td>\n",
       "      <td>76020.000000</td>\n",
       "      <td>76020.000000</td>\n",
       "      <td>76020.000000</td>\n",
       "      <td>76020.000000</td>\n",
       "      <td>...</td>\n",
       "      <td>76020.000000</td>\n",
       "      <td>76020.000000</td>\n",
       "      <td>76020.000000</td>\n",
       "      <td>76020.000000</td>\n",
       "      <td>76020.000000</td>\n",
       "      <td>76020.000000</td>\n",
       "      <td>76020.000000</td>\n",
       "      <td>76020.000000</td>\n",
       "      <td>7.602000e+04</td>\n",
       "      <td>76020.000000</td>\n",
       "    </tr>\n",
       "    <tr>\n",
       "      <th>mean</th>\n",
       "      <td>2.716483</td>\n",
       "      <td>33.212865</td>\n",
       "      <td>86.208265</td>\n",
       "      <td>72.363067</td>\n",
       "      <td>119.529632</td>\n",
       "      <td>3.559130</td>\n",
       "      <td>6.472698</td>\n",
       "      <td>0.412946</td>\n",
       "      <td>0.567352</td>\n",
       "      <td>3.160715</td>\n",
       "      <td>...</td>\n",
       "      <td>7.935824</td>\n",
       "      <td>1.365146</td>\n",
       "      <td>12.215580</td>\n",
       "      <td>8.784074</td>\n",
       "      <td>31.505324</td>\n",
       "      <td>1.858575</td>\n",
       "      <td>76.026165</td>\n",
       "      <td>56.614351</td>\n",
       "      <td>1.172358e+05</td>\n",
       "      <td>0.039569</td>\n",
       "    </tr>\n",
       "    <tr>\n",
       "      <th>std</th>\n",
       "      <td>9.447971</td>\n",
       "      <td>12.956486</td>\n",
       "      <td>1614.757313</td>\n",
       "      <td>339.315831</td>\n",
       "      <td>546.266294</td>\n",
       "      <td>93.155749</td>\n",
       "      <td>153.737066</td>\n",
       "      <td>30.604864</td>\n",
       "      <td>36.513513</td>\n",
       "      <td>95.268204</td>\n",
       "      <td>...</td>\n",
       "      <td>455.887218</td>\n",
       "      <td>113.959637</td>\n",
       "      <td>783.207399</td>\n",
       "      <td>538.439211</td>\n",
       "      <td>2013.125393</td>\n",
       "      <td>147.786584</td>\n",
       "      <td>4040.337842</td>\n",
       "      <td>2852.579397</td>\n",
       "      <td>1.826646e+05</td>\n",
       "      <td>0.194945</td>\n",
       "    </tr>\n",
       "    <tr>\n",
       "      <th>min</th>\n",
       "      <td>0.000000</td>\n",
       "      <td>5.000000</td>\n",
       "      <td>0.000000</td>\n",
       "      <td>0.000000</td>\n",
       "      <td>0.000000</td>\n",
       "      <td>0.000000</td>\n",
       "      <td>0.000000</td>\n",
       "      <td>0.000000</td>\n",
       "      <td>0.000000</td>\n",
       "      <td>0.000000</td>\n",
       "      <td>...</td>\n",
       "      <td>0.000000</td>\n",
       "      <td>0.000000</td>\n",
       "      <td>0.000000</td>\n",
       "      <td>0.000000</td>\n",
       "      <td>0.000000</td>\n",
       "      <td>0.000000</td>\n",
       "      <td>0.000000</td>\n",
       "      <td>0.000000</td>\n",
       "      <td>5.163750e+03</td>\n",
       "      <td>0.000000</td>\n",
       "    </tr>\n",
       "    <tr>\n",
       "      <th>25%</th>\n",
       "      <td>2.000000</td>\n",
       "      <td>23.000000</td>\n",
       "      <td>0.000000</td>\n",
       "      <td>0.000000</td>\n",
       "      <td>0.000000</td>\n",
       "      <td>0.000000</td>\n",
       "      <td>0.000000</td>\n",
       "      <td>0.000000</td>\n",
       "      <td>0.000000</td>\n",
       "      <td>0.000000</td>\n",
       "      <td>...</td>\n",
       "      <td>0.000000</td>\n",
       "      <td>0.000000</td>\n",
       "      <td>0.000000</td>\n",
       "      <td>0.000000</td>\n",
       "      <td>0.000000</td>\n",
       "      <td>0.000000</td>\n",
       "      <td>0.000000</td>\n",
       "      <td>0.000000</td>\n",
       "      <td>6.787061e+04</td>\n",
       "      <td>0.000000</td>\n",
       "    </tr>\n",
       "    <tr>\n",
       "      <th>50%</th>\n",
       "      <td>2.000000</td>\n",
       "      <td>28.000000</td>\n",
       "      <td>0.000000</td>\n",
       "      <td>0.000000</td>\n",
       "      <td>0.000000</td>\n",
       "      <td>0.000000</td>\n",
       "      <td>0.000000</td>\n",
       "      <td>0.000000</td>\n",
       "      <td>0.000000</td>\n",
       "      <td>0.000000</td>\n",
       "      <td>...</td>\n",
       "      <td>0.000000</td>\n",
       "      <td>0.000000</td>\n",
       "      <td>0.000000</td>\n",
       "      <td>0.000000</td>\n",
       "      <td>0.000000</td>\n",
       "      <td>0.000000</td>\n",
       "      <td>0.000000</td>\n",
       "      <td>0.000000</td>\n",
       "      <td>1.064092e+05</td>\n",
       "      <td>0.000000</td>\n",
       "    </tr>\n",
       "    <tr>\n",
       "      <th>75%</th>\n",
       "      <td>2.000000</td>\n",
       "      <td>40.000000</td>\n",
       "      <td>0.000000</td>\n",
       "      <td>0.000000</td>\n",
       "      <td>0.000000</td>\n",
       "      <td>0.000000</td>\n",
       "      <td>0.000000</td>\n",
       "      <td>0.000000</td>\n",
       "      <td>0.000000</td>\n",
       "      <td>0.000000</td>\n",
       "      <td>...</td>\n",
       "      <td>0.000000</td>\n",
       "      <td>0.000000</td>\n",
       "      <td>0.000000</td>\n",
       "      <td>0.000000</td>\n",
       "      <td>0.000000</td>\n",
       "      <td>0.000000</td>\n",
       "      <td>0.000000</td>\n",
       "      <td>0.000000</td>\n",
       "      <td>1.187563e+05</td>\n",
       "      <td>0.000000</td>\n",
       "    </tr>\n",
       "    <tr>\n",
       "      <th>max</th>\n",
       "      <td>238.000000</td>\n",
       "      <td>105.000000</td>\n",
       "      <td>210000.000000</td>\n",
       "      <td>12888.030000</td>\n",
       "      <td>21024.810000</td>\n",
       "      <td>8237.820000</td>\n",
       "      <td>11073.570000</td>\n",
       "      <td>6600.000000</td>\n",
       "      <td>6600.000000</td>\n",
       "      <td>8237.820000</td>\n",
       "      <td>...</td>\n",
       "      <td>50003.880000</td>\n",
       "      <td>20385.720000</td>\n",
       "      <td>138831.630000</td>\n",
       "      <td>91778.730000</td>\n",
       "      <td>438329.220000</td>\n",
       "      <td>24650.010000</td>\n",
       "      <td>681462.900000</td>\n",
       "      <td>397884.300000</td>\n",
       "      <td>2.203474e+07</td>\n",
       "      <td>1.000000</td>\n",
       "    </tr>\n",
       "  </tbody>\n",
       "</table>\n",
       "<p>8 rows × 256 columns</p>\n",
       "</div>"
      ],
      "text/plain": [
       "               var3         var15  imp_ent_var16_ult1  \\\n",
       "count  76020.000000  76020.000000        76020.000000   \n",
       "mean       2.716483     33.212865           86.208265   \n",
       "std        9.447971     12.956486         1614.757313   \n",
       "min        0.000000      5.000000            0.000000   \n",
       "25%        2.000000     23.000000            0.000000   \n",
       "50%        2.000000     28.000000            0.000000   \n",
       "75%        2.000000     40.000000            0.000000   \n",
       "max      238.000000    105.000000       210000.000000   \n",
       "\n",
       "       imp_op_var39_comer_ult1  imp_op_var39_comer_ult3  \\\n",
       "count             76020.000000             76020.000000   \n",
       "mean                 72.363067               119.529632   \n",
       "std                 339.315831               546.266294   \n",
       "min                   0.000000                 0.000000   \n",
       "25%                   0.000000                 0.000000   \n",
       "50%                   0.000000                 0.000000   \n",
       "75%                   0.000000                 0.000000   \n",
       "max               12888.030000             21024.810000   \n",
       "\n",
       "       imp_op_var40_comer_ult1  imp_op_var40_comer_ult3  \\\n",
       "count             76020.000000             76020.000000   \n",
       "mean                  3.559130                 6.472698   \n",
       "std                  93.155749               153.737066   \n",
       "min                   0.000000                 0.000000   \n",
       "25%                   0.000000                 0.000000   \n",
       "50%                   0.000000                 0.000000   \n",
       "75%                   0.000000                 0.000000   \n",
       "max                8237.820000             11073.570000   \n",
       "\n",
       "       imp_op_var40_efect_ult1  imp_op_var40_efect_ult3  imp_op_var40_ult1  \\\n",
       "count             76020.000000             76020.000000       76020.000000   \n",
       "mean                  0.412946                 0.567352           3.160715   \n",
       "std                  30.604864                36.513513          95.268204   \n",
       "min                   0.000000                 0.000000           0.000000   \n",
       "25%                   0.000000                 0.000000           0.000000   \n",
       "50%                   0.000000                 0.000000           0.000000   \n",
       "75%                   0.000000                 0.000000           0.000000   \n",
       "max                6600.000000              6600.000000        8237.820000   \n",
       "\n",
       "       ...  saldo_medio_var33_hace2  saldo_medio_var33_hace3  \\\n",
       "count  ...             76020.000000             76020.000000   \n",
       "mean   ...                 7.935824                 1.365146   \n",
       "std    ...               455.887218               113.959637   \n",
       "min    ...                 0.000000                 0.000000   \n",
       "25%    ...                 0.000000                 0.000000   \n",
       "50%    ...                 0.000000                 0.000000   \n",
       "75%    ...                 0.000000                 0.000000   \n",
       "max    ...             50003.880000             20385.720000   \n",
       "\n",
       "       saldo_medio_var33_ult1  saldo_medio_var33_ult3  \\\n",
       "count            76020.000000            76020.000000   \n",
       "mean                12.215580                8.784074   \n",
       "std                783.207399              538.439211   \n",
       "min                  0.000000                0.000000   \n",
       "25%                  0.000000                0.000000   \n",
       "50%                  0.000000                0.000000   \n",
       "75%                  0.000000                0.000000   \n",
       "max             138831.630000            91778.730000   \n",
       "\n",
       "       saldo_medio_var44_hace2  saldo_medio_var44_hace3  \\\n",
       "count             76020.000000             76020.000000   \n",
       "mean                 31.505324                 1.858575   \n",
       "std                2013.125393               147.786584   \n",
       "min                   0.000000                 0.000000   \n",
       "25%                   0.000000                 0.000000   \n",
       "50%                   0.000000                 0.000000   \n",
       "75%                   0.000000                 0.000000   \n",
       "max              438329.220000             24650.010000   \n",
       "\n",
       "       saldo_medio_var44_ult1  saldo_medio_var44_ult3         var38  \\\n",
       "count            76020.000000            76020.000000  7.602000e+04   \n",
       "mean                76.026165               56.614351  1.172358e+05   \n",
       "std               4040.337842             2852.579397  1.826646e+05   \n",
       "min                  0.000000                0.000000  5.163750e+03   \n",
       "25%                  0.000000                0.000000  6.787061e+04   \n",
       "50%                  0.000000                0.000000  1.064092e+05   \n",
       "75%                  0.000000                0.000000  1.187563e+05   \n",
       "max             681462.900000           397884.300000  2.203474e+07   \n",
       "\n",
       "             TARGET  \n",
       "count  76020.000000  \n",
       "mean       0.039569  \n",
       "std        0.194945  \n",
       "min        0.000000  \n",
       "25%        0.000000  \n",
       "50%        0.000000  \n",
       "75%        0.000000  \n",
       "max        1.000000  \n",
       "\n",
       "[8 rows x 256 columns]"
      ]
     },
     "execution_count": 21,
     "metadata": {},
     "output_type": "execute_result"
    }
   ],
   "source": [
    "# Here in var3 there are 108 values with -999999.0 values\n",
    "# They can be treated as Missing Values\n",
    "## Replace them by mean of the column\n",
    "# cleaned_train_df['var3'].replace(-999999.,np.mean(cleaned_train_df['var3']),inplace=True)\n",
    "df_clean['var3'].replace(-999999., 2,inplace=True)\n",
    "\n",
    "\n",
    "# Take a look at the dataframe\n",
    "df_clean.describe()"
   ]
  },
  {
   "cell_type": "code",
   "execution_count": null,
   "id": "acea4c6f",
   "metadata": {},
   "outputs": [],
   "source": []
  },
  {
   "cell_type": "markdown",
   "id": "587a051c",
   "metadata": {},
   "source": [
    "<a class=\"anchor\" id=\"f3-bullet\"></a>\n",
    "### 3 -  Define the Predictor and Response Variable"
   ]
  },
  {
   "cell_type": "code",
   "execution_count": 23,
   "id": "e19809ac",
   "metadata": {},
   "outputs": [],
   "source": [
    "\n",
    "X = df_clean.drop(['TARGET'], axis=1)\n",
    "y = df_clean['TARGET']"
   ]
  },
  {
   "cell_type": "markdown",
   "id": "46d13ae7",
   "metadata": {},
   "source": [
    "<a class=\"anchor\" id=\"f4-bullet\"></a>\n",
    "### 4 - Standarization and Splitting"
   ]
  },
  {
   "cell_type": "code",
   "execution_count": 24,
   "id": "0e75ccf6",
   "metadata": {},
   "outputs": [],
   "source": [
    "# Standarize the Data \n",
    "scaler = StandardScaler().fit(X)\n",
    "X_scaler = scaler.transform(X)\n",
    "X_scaler_df = pd.DataFrame(X_scaler, columns=X.columns)\n"
   ]
  },
  {
   "cell_type": "code",
   "execution_count": 79,
   "id": "789814e5",
   "metadata": {},
   "outputs": [],
   "source": [
    "# Split the unstandarised data \n",
    "# X_train, X_val, y_train, y_val = train_test_split(X, y, train_size=0.8,stratify=y, random_state=42)"
   ]
  },
  {
   "cell_type": "code",
   "execution_count": 28,
   "id": "e83eb512",
   "metadata": {},
   "outputs": [],
   "source": [
    "# Split the standarised Dataframe\n",
    "scaler_X_train, scaler_X_test, scaler_y_train, scaler_y_test = train_test_split(X_scaler, y, test_size=0.2,\n",
    "                                                                                stratify=y, random_state=42)\n",
    "                                                                               "
   ]
  },
  {
   "cell_type": "markdown",
   "id": "e1a7de51",
   "metadata": {},
   "source": [
    "<a class=\"anchor\" id=\"f5-bullet\"></a>\n",
    "### 5 - Upsampling"
   ]
  },
  {
   "cell_type": "code",
   "execution_count": 31,
   "id": "d2616cb8",
   "metadata": {
    "scrolled": true
   },
   "outputs": [
    {
     "data": {
      "image/png": "[encoded data removed]",
      "text/plain": [
       "<Figure size 720x288 with 2 Axes>"
      ]
     },
     "metadata": {
      "needs_background": "light"
     },
     "output_type": "display_data"
    }
   ],
   "source": [
    "smote = SMOTE()\n",
    "X_oversampled, y_oversampled = smote.fit_resample(scaler_X_train,scaler_y_train)\n",
    "\n",
    "# Pie & Bar plots after upsampling \n",
    "fig, ax = plt.subplots(nrows=1, ncols=2, figsize=(10, 4))\n",
    "y_oversampled.value_counts().plot.pie(autopct='%1.1f%%',\n",
    "                                                   ax=ax[0], shadow=True)\n",
    "ax[1] = y_oversampled.value_counts().plot(kind='bar',title='Target vs Count',color=['#3274D7', '#E87529'])\n",
    "ax[1].set_xlabel(\"TARGET\")\n",
    "ax[1].set_ylabel(\"Count\")\n",
    "plt.show()"
   ]
  },
  {
   "cell_type": "markdown",
   "id": "0c6251e5",
   "metadata": {},
   "source": [
    "# `Model Selection`"
   ]
  },
  {
   "cell_type": "code",
   "execution_count": null,
   "id": "064dd070",
   "metadata": {},
   "outputs": [],
   "source": [
    "# Helper functions to visualise and see reults"
   ]
  },
  {
   "cell_type": "code",
   "execution_count": 32,
   "id": "4d8a641d",
   "metadata": {},
   "outputs": [],
   "source": [
    "# Helper function to visualise confusion Matric\n",
    "def print_confusion_matrix(conf_matrix):\n",
    "    fig, ax = plt.subplots(figsize=(5, 5))\n",
    "    ax.matshow(conf_matrix, cmap=plt.cm.Blues, alpha=0.9)\n",
    "    for i in range(conf_matrix.shape[0]):\n",
    "        for j in range(conf_matrix.shape[1]):\n",
    "            ax.text(x=j, y=i,s=conf_matrix[i, j], va='center', ha='center', size='xx-large')\n",
    " \n",
    "    plt.xlabel('Predictions', fontsize=18)\n",
    "    plt.ylabel('Actuals', fontsize=18)\n",
    "    plt.title('Confusion Matrix', fontsize=18)\n",
    "    plt.show()"
   ]
  },
  {
   "cell_type": "code",
   "execution_count": 89,
   "id": "25c518fc",
   "metadata": {},
   "outputs": [],
   "source": [
    "# Helper function to interpret results of a model\n",
    "def get_clf_eval(y_test, y_pred = None, pred_proba = None):\n",
    "    confusion = confusion_matrix(y_test, y_pred)\n",
    "    accuracy = accuracy_score(y_test, y_pred)\n",
    "    precision = precision_score(y_test, y_pred)\n",
    "    recall = recall_score(y_test, y_pred)\n",
    "    f1 = f1_score(y_test, y_pred)\n",
    "    roc_auc = roc_auc_score(y_test, pred_proba)\n",
    "    \n",
    "#     print('\\033[1m\\t\\tConfusion Matrix')\n",
    "    print_confusion_matrix(confusion)\n",
    "    print('\\nThe Accuacy of the model is: {}%'.format(np.around(accuracy,2)*100))\n",
    "    print('The Precision is : {}'.format(np.around(precision,4)))\n",
    "    print('The Recall is : {}'.format(np.around(recall,4)))\n",
    "    print('The F1 score is : {}'.format(np.around(f1,4)))  \n",
    "    print('ROC_AUC is : {}\\n'.format(np.around(roc_auc,4)))\n",
    "    print(classification_report(y_test, y_pred))\n",
    "    return round(f1, 4), round(roc_auc, 4), round(accuracy, 4)"
   ]
  },
  {
   "cell_type": "markdown",
   "id": "667b3e42",
   "metadata": {},
   "source": [
    "## Logistic Regression with Class imbalance (Baseline Model)"
   ]
  },
  {
   "cell_type": "code",
   "execution_count": 82,
   "id": "2ba2e65b",
   "metadata": {},
   "outputs": [],
   "source": [
    "# Define the model\n",
    "lg_imb_model = LogisticRegression(random_state=86)"
   ]
  },
  {
   "cell_type": "code",
   "execution_count": 84,
   "id": "9162f669",
   "metadata": {},
   "outputs": [
    {
     "name": "stdout",
     "output_type": "stream",
     "text": [
      "CPU times: user 4.25 s, sys: 42.8 ms, total: 4.29 s\n",
      "Wall time: 2.32 s\n"
     ]
    },
    {
     "name": "stderr",
     "output_type": "stream",
     "text": [
      "/Users/jatinkumar/opt/anaconda3/envs/cs109a/lib/python3.7/site-packages/sklearn/linear_model/_logistic.py:818: ConvergenceWarning: lbfgs failed to converge (status=1):\n",
      "STOP: TOTAL NO. of ITERATIONS REACHED LIMIT.\n",
      "\n",
      "Increase the number of iterations (max_iter) or scale the data as shown in:\n",
      "    https://scikit-learn.org/stable/modules/preprocessing.html\n",
      "Please also refer to the documentation for alternative solver options:\n",
      "    https://scikit-learn.org/stable/modules/linear_model.html#logistic-regression\n",
      "  extra_warning_msg=_LOGISTIC_SOLVER_CONVERGENCE_MSG,\n"
     ]
    }
   ],
   "source": [
    "%%time\n",
    "\n",
    "lg_imb_model.fit(scaler_X_train, scaler_y_train)\n",
    "y_pred_lg_imb = lg_imb_model.predict(scaler_X_test)\n",
    "y_pred_proba_lg_imb = lg_imb_model.predict_proba(scaler_X_test)[:,1]"
   ]
  },
  {
   "cell_type": "code",
   "execution_count": 90,
   "id": "cb0f4acf",
   "metadata": {},
   "outputs": [
    {
     "data": {
      "image/png": "[encoded data removed]",
      "text/plain": [
       "<Figure size 360x360 with 1 Axes>"
      ]
     },
     "metadata": {},
     "output_type": "display_data"
    },
    {
     "name": "stdout",
     "output_type": "stream",
     "text": [
      "\n",
      "The Accuacy of the model is: 96.0%\n",
      "The Precision is : 0.2143\n",
      "The Recall is : 0.005\n",
      "The F1 score is : 0.0097\n",
      "ROC_AUC is : 0.8035\n",
      "\n",
      "              precision    recall  f1-score   support\n",
      "\n",
      "           0       0.96      1.00      0.98     14602\n",
      "           1       0.21      0.00      0.01       602\n",
      "\n",
      "    accuracy                           0.96     15204\n",
      "   macro avg       0.59      0.50      0.49     15204\n",
      "weighted avg       0.93      0.96      0.94     15204\n",
      "\n"
     ]
    }
   ],
   "source": [
    "f1_lg_imb, roc_lg_imb, accuracy_lg_imb = get_clf_eval(scaler_y_test, y_pred_lg_imb, y_pred_proba_lg_imb)"
   ]
  },
  {
   "cell_type": "markdown",
   "id": "296cf39e",
   "metadata": {},
   "source": [
    "***Clearly we can see that the model is biased towards a particular class and hence the f1 score is very low.***"
   ]
  },
  {
   "cell_type": "markdown",
   "id": "08fbf9ea",
   "metadata": {},
   "source": [
    "## Logistic Regression using Upsampled Data"
   ]
  },
  {
   "cell_type": "code",
   "execution_count": 115,
   "id": "144096d9",
   "metadata": {},
   "outputs": [],
   "source": [
    "c_values = {\"C\": [0.0001, 0.001, 0.01, 0.1, 1, 10, 100, 1000, 10000]}\n",
    "\n",
    "#Hyper parameter tuning for Logistic regression \n",
    "\n",
    "lreg_model = GridSearchCV(estimator=LogisticRegression(max_iter=20000), param_grid=c_values)\n",
    "lreg_model.fit(scaler_X_train, scaler_y_train)\n",
    "y_pred_logistic = lreg_model.predict(scaler_X_test)"
   ]
  },
  {
   "cell_type": "code",
   "execution_count": 116,
   "id": "5fb65383",
   "metadata": {},
   "outputs": [
    {
     "data": {
      "text/plain": [
       "{'C': 0.0001}"
      ]
     },
     "execution_count": 116,
     "metadata": {},
     "output_type": "execute_result"
    }
   ],
   "source": [
    "lreg_model.best_params_"
   ]
  },
  {
   "cell_type": "code",
   "execution_count": 119,
   "id": "5e5b66ae",
   "metadata": {},
   "outputs": [
    {
     "data": {
      "image/png": "[encoded data removed]",
      "text/plain": [
       "<Figure size 360x360 with 1 Axes>"
      ]
     },
     "metadata": {
      "needs_background": "light"
     },
     "output_type": "display_data"
    },
    {
     "name": "stdout",
     "output_type": "stream",
     "text": [
      "\n",
      "The Accuacy of the model is: 96.0%\n",
      "The Precision is : 0.0\n",
      "The Recall is : 0.0\n",
      "The F1 score is : 0.0\n",
      "ROC_AUC is : 0.7882\n",
      "\n",
      "              precision    recall  f1-score   support\n",
      "\n",
      "           0       0.96      1.00      0.98     14602\n",
      "           1       0.00      0.00      0.00       602\n",
      "\n",
      "    accuracy                           0.96     15204\n",
      "   macro avg       0.48      0.50      0.49     15204\n",
      "weighted avg       0.92      0.96      0.94     15204\n",
      "\n"
     ]
    }
   ],
   "source": [
    "y_pred_proba_logistic = lreg_model.predict_proba(scaler_X_test)[:,1]\n",
    "f1_lreg, roc_auc_lreg, accuracy_lreg = get_clf_eval(scaler_y_test, y_pred_logistic, y_pred_proba_logistic)"
   ]
  },
  {
   "cell_type": "code",
   "execution_count": null,
   "id": "eb04179d",
   "metadata": {},
   "outputs": [],
   "source": []
  },
  {
   "cell_type": "code",
   "execution_count": null,
   "id": "8996270f",
   "metadata": {},
   "outputs": [],
   "source": []
  },
  {
   "cell_type": "code",
   "execution_count": 120,
   "id": "bf756aee",
   "metadata": {},
   "outputs": [],
   "source": [
    "log_reg_model = LogisticRegression(random_state=86,\n",
    "                                   C=0.0001 \n",
    "                                   ,max_iter=20000)"
   ]
  },
  {
   "cell_type": "code",
   "execution_count": 121,
   "id": "d29b3458",
   "metadata": {},
   "outputs": [
    {
     "name": "stdout",
     "output_type": "stream",
     "text": [
      "CPU times: user 2.23 s, sys: 173 ms, total: 2.41 s\n",
      "Wall time: 1.44 s\n"
     ]
    }
   ],
   "source": [
    "%%time\n",
    "\n",
    "log_reg_model.fit(X_oversampled, y_oversampled)\n",
    "y_pred_lr = log_reg_model.predict(scaler_X_test)\n",
    "y_pred_proba_lr = log_reg_model.predict_proba(scaler_X_test)[:,1]"
   ]
  },
  {
   "cell_type": "code",
   "execution_count": 122,
   "id": "16dc3a89",
   "metadata": {},
   "outputs": [
    {
     "data": {
      "image/png": "[encoded data removed]",
      "text/plain": [
       "<Figure size 360x360 with 1 Axes>"
      ]
     },
     "metadata": {
      "needs_background": "light"
     },
     "output_type": "display_data"
    },
    {
     "name": "stdout",
     "output_type": "stream",
     "text": [
      "\n",
      "The Accuacy of the model is: 68.0%\n",
      "The Precision is : 0.0863\n",
      "The Recall is : 0.7359\n",
      "The F1 score is : 0.1545\n",
      "ROC_AUC is : 0.801\n",
      "\n",
      "              precision    recall  f1-score   support\n",
      "\n",
      "           0       0.98      0.68      0.80     14602\n",
      "           1       0.09      0.74      0.15       602\n",
      "\n",
      "    accuracy                           0.68     15204\n",
      "   macro avg       0.54      0.71      0.48     15204\n",
      "weighted avg       0.95      0.68      0.78     15204\n",
      "\n"
     ]
    }
   ],
   "source": [
    "f1_lr, roc_auc_lr, accuracy_lr = get_clf_eval(scaler_y_test, y_pred_lr, y_pred_proba_lr)"
   ]
  },
  {
   "cell_type": "code",
   "execution_count": 112,
   "id": "f9e72410",
   "metadata": {},
   "outputs": [],
   "source": [
    "# # Calculate FPR and TPR for all thresholds\n",
    "# fpr, tpr, threshold = roc_curve(scaler_y_test, y_pred_proba_lr)\n",
    "# roc_auc = auc(fpr, tpr)\n",
    "\n",
    "# # Plotting the ROC curve\n",
    "# fig, ax = plt.subplots(figsize = (7, 5))\n",
    "# plt.title('Receiver Operating Characteristic', fontsize=18)\n",
    "# plt.plot(fpr, tpr, 'b', label = 'AUC = %0.4f' % roc_auc)\n",
    "# ax.spines['top'].set_visible(False)\n",
    "# ax.spines['right'].set_visible(False)\n",
    "# plt.legend(loc = 'upper left', fontsize = 16)\n",
    "# plt.plot([0, 1], [0, 1],'r--')\n",
    "# plt.xlim([0, 1])\n",
    "# plt.ylim([0, 1])\n",
    "# plt.ylabel('True Positive Rate', fontsize = 16)\n",
    "# plt.xlabel('False Positive Rate', fontsize = 16)\n",
    "# plt.show()"
   ]
  },
  {
   "cell_type": "markdown",
   "id": "c6e10374",
   "metadata": {},
   "source": [
    "## Random Forest"
   ]
  },
  {
   "cell_type": "code",
   "execution_count": 74,
   "id": "0c9dca5a",
   "metadata": {},
   "outputs": [],
   "source": [
    "rf_model = RandomForestClassifier(random_state=86,\n",
    "                                 max_depth=10,\n",
    "                                 warm_start=True,\n",
    "                                 n_estimators=300,\n",
    "                                 )"
   ]
  },
  {
   "cell_type": "code",
   "execution_count": 75,
   "id": "78381a7c",
   "metadata": {},
   "outputs": [
    {
     "name": "stdout",
     "output_type": "stream",
     "text": [
      "CPU times: user 1min 38s, sys: 946 ms, total: 1min 39s\n",
      "Wall time: 1min 41s\n"
     ]
    }
   ],
   "source": [
    "%%time\n",
    "rf_model.fit(X_oversampled, y_oversampled)\n",
    "y_pred_rf = rf_model.predict(scaler_X_test)\n",
    "y_pred_proba_rf = rf_model.predict_proba(scaler_X_test)[:,1]\n",
    "# get_clf_eval(scaler_y_test, y_pred_rf, y_pred_proba_rf)\n",
    "\n",
    "# print(rc_result)"
   ]
  },
  {
   "cell_type": "code",
   "execution_count": 92,
   "id": "eaaa1db8",
   "metadata": {},
   "outputs": [
    {
     "data": {
      "image/png": "[encoded data removed]",
      "text/plain": [
       "<Figure size 360x360 with 1 Axes>"
      ]
     },
     "metadata": {},
     "output_type": "display_data"
    },
    {
     "name": "stdout",
     "output_type": "stream",
     "text": [
      "\n",
      "The Accuacy of the model is: 78.0%\n",
      "The Precision is : 0.1154\n",
      "The Recall is : 0.6728\n",
      "The F1 score is : 0.1969\n",
      "ROC_AUC is : 0.8183\n",
      "\n",
      "              precision    recall  f1-score   support\n",
      "\n",
      "           0       0.98      0.79      0.87     14602\n",
      "           1       0.12      0.67      0.20       602\n",
      "\n",
      "    accuracy                           0.78     15204\n",
      "   macro avg       0.55      0.73      0.54     15204\n",
      "weighted avg       0.95      0.78      0.85     15204\n",
      "\n"
     ]
    }
   ],
   "source": [
    "f1_rf, roc_auc_rf, accuracy_rf = get_clf_eval(scaler_y_test, y_pred_rf, y_pred_proba_rf)"
   ]
  },
  {
   "cell_type": "markdown",
   "id": "bc268a09",
   "metadata": {},
   "source": [
    "## XG-Boost "
   ]
  },
  {
   "cell_type": "code",
   "execution_count": 41,
   "id": "9f8f9885",
   "metadata": {},
   "outputs": [
    {
     "name": "stderr",
     "output_type": "stream",
     "text": [
      "/Users/jatinkumar/opt/anaconda3/envs/cs109a/lib/python3.7/site-packages/xgboost/sklearn.py:1224: UserWarning: The use of label encoder in XGBClassifier is deprecated and will be removed in a future release. To remove this warning, do the following: 1) Pass option use_label_encoder=False when constructing XGBClassifier object; and 2) Encode your labels (y) as integers starting with 0, i.e. 0, 1, 2, ..., [num_class - 1].\n",
      "  warnings.warn(label_encoder_deprecation_msg, UserWarning)\n"
     ]
    },
    {
     "name": "stdout",
     "output_type": "stream",
     "text": [
      "[00:32:29] WARNING: ../src/learner.cc:1115: Starting in XGBoost 1.3.0, the default evaluation metric used with the objective 'binary:logistic' was changed from 'error' to 'logloss'. Explicitly set eval_metric if you'd like to restore the old behavior.\n"
     ]
    },
    {
     "data": {
      "image/png": "[encoded data removed]",
      "text/plain": [
       "<Figure size 360x360 with 1 Axes>"
      ]
     },
     "metadata": {
      "needs_background": "light"
     },
     "output_type": "display_data"
    },
    {
     "name": "stdout",
     "output_type": "stream",
     "text": [
      "\n",
      "The Accuacy of the model is: 91.0%\n",
      "The Precision is : 0.1735\n",
      "The Recall is : 0.3439\n",
      "The F1 score is : 0.2306\n",
      "ROC_AUC is : 0.81\n",
      "\n",
      "              precision    recall  f1-score   support\n",
      "\n",
      "           0       0.97      0.93      0.95     14602\n",
      "           1       0.17      0.34      0.23       602\n",
      "\n",
      "    accuracy                           0.91     15204\n",
      "   macro avg       0.57      0.64      0.59     15204\n",
      "weighted avg       0.94      0.91      0.92     15204\n",
      "\n",
      "CPU times: user 55min 24s, sys: 34.2 s, total: 55min 58s\n",
      "Wall time: 23min 14s\n"
     ]
    }
   ],
   "source": [
    "%%time\n",
    "xg_model = xgb.XGBClassifier(missing=np.nan, max_depth=15, n_estimators=350, learning_rate=0.03,\n",
    "                             nthread=4, subsample=0.95, colsample_bytree=0.85, seed=4242)\n",
    "\n",
    "xg_model.fit(X_oversampled, y_oversampled)\n",
    "y_pred_xg = xg_model.predict(scaler_X_test)\n",
    "y_pred_proba_xg = xg_model.predict_proba(scaler_X_test)[:,1]\n",
    "\n",
    "# get_clf_eval(scaler_y_test, y_pred_xg, y_pred_proba_xg)\n",
    "\n"
   ]
  },
  {
   "cell_type": "code",
   "execution_count": 93,
   "id": "76392cd4",
   "metadata": {},
   "outputs": [
    {
     "data": {
      "image/png": "[encoded data removed]",
      "text/plain": [
       "<Figure size 360x360 with 1 Axes>"
      ]
     },
     "metadata": {},
     "output_type": "display_data"
    },
    {
     "name": "stdout",
     "output_type": "stream",
     "text": [
      "\n",
      "The Accuacy of the model is: 91.0%\n",
      "The Precision is : 0.1735\n",
      "The Recall is : 0.3439\n",
      "The F1 score is : 0.2306\n",
      "ROC_AUC is : 0.81\n",
      "\n",
      "              precision    recall  f1-score   support\n",
      "\n",
      "           0       0.97      0.93      0.95     14602\n",
      "           1       0.17      0.34      0.23       602\n",
      "\n",
      "    accuracy                           0.91     15204\n",
      "   macro avg       0.57      0.64      0.59     15204\n",
      "weighted avg       0.94      0.91      0.92     15204\n",
      "\n"
     ]
    }
   ],
   "source": [
    "f1_xgb, roc_auc_xgb, accuracy_xgb = get_clf_eval(scaler_y_test, y_pred_xg, y_pred_proba_xg)"
   ]
  },
  {
   "cell_type": "markdown",
   "id": "167736f2",
   "metadata": {},
   "source": [
    "## AdaBoost"
   ]
  },
  {
   "cell_type": "code",
   "execution_count": 127,
   "id": "b53fe22b",
   "metadata": {},
   "outputs": [
    {
     "name": "stdout",
     "output_type": "stream",
     "text": [
      "CPU times: user 11.2 s, sys: 717 ms, total: 11.9 s\n",
      "Wall time: 13.4 s\n"
     ]
    }
   ],
   "source": [
    "%%time\n",
    "ada_boost_model = AdaBoostClassifier(base_estimator = DecisionTreeClassifier(max_depth = 1), \n",
    "                            algorithm = 'SAMME', n_estimators=9)\n",
    "\n",
    "# Fit on the entire data\n",
    "ada_boost_model.fit(X_oversampled, y_oversampled)\n",
    "y_pred_ada = ada_boost_model.predict(scaler_X_test)\n",
    "y_pred_proba_ada = ada_boost_model.predict_proba(scaler_X_test)[:,1]"
   ]
  },
  {
   "cell_type": "code",
   "execution_count": 128,
   "id": "7e96d888",
   "metadata": {},
   "outputs": [
    {
     "data": {
      "image/png": "[encoded data removed]",
      "text/plain": [
       "<Figure size 360x360 with 1 Axes>"
      ]
     },
     "metadata": {
      "needs_background": "light"
     },
     "output_type": "display_data"
    },
    {
     "name": "stdout",
     "output_type": "stream",
     "text": [
      "\n",
      "The Accuacy of the model is: 75.0%\n",
      "The Precision is : 0.1085\n",
      "The Recall is : 0.7292\n",
      "The F1 score is : 0.1889\n",
      "ROC_AUC is : 0.8065\n",
      "\n",
      "              precision    recall  f1-score   support\n",
      "\n",
      "           0       0.99      0.75      0.85     14602\n",
      "           1       0.11      0.73      0.19       602\n",
      "\n",
      "    accuracy                           0.75     15204\n",
      "   macro avg       0.55      0.74      0.52     15204\n",
      "weighted avg       0.95      0.75      0.83     15204\n",
      "\n"
     ]
    }
   ],
   "source": [
    "f1_ada, roc_auc_ada, accuracy_ada = get_clf_eval(scaler_y_test, y_pred_ada, y_pred_proba_ada)"
   ]
  },
  {
   "cell_type": "markdown",
   "id": "4dc89dc6",
   "metadata": {},
   "source": [
    "# Comparing the models"
   ]
  },
  {
   "cell_type": "code",
   "execution_count": 129,
   "id": "bb432215",
   "metadata": {},
   "outputs": [
    {
     "name": "stdout",
     "output_type": "stream",
     "text": [
      "+--------------------------------------------------+----------+-----------+----------+\n",
      "|               Models and Startegy                | F1 Score | AUC score | Accuracy |\n",
      "+--------------------------------------------------+----------+-----------+----------+\n",
      "|  Logistic Regression - No imbalance correction   |  0.0097  |   0.8035  |  0.9599  |\n",
      "| Tuned Logistic Regression - Using Upsampled Data |  0.1545  |   0.801   |  0.6811  |\n",
      "|    Tuned Random Forest - Using Upsampled Data    |  0.1969  |   0.8183  |  0.7828  |\n",
      "|      Tuned ADA-Boost - Using Upsampled Data      |  0.1889  |   0.8065  |  0.7521  |\n",
      "|      Tuned XG-Boost - Using Upsampled Data       |  0.2306  |    0.81   |  0.9092  |\n",
      "+--------------------------------------------------+----------+-----------+----------+\n"
     ]
    }
   ],
   "source": [
    "# Compile the results from the implementations above\n",
    "\n",
    "pt = PrettyTable()\n",
    "pt.field_names = [\"Models and Startegy\",\"F1 Score\",\"AUC score\",\"Accuracy\"]\n",
    "pt.add_row([\"Logistic Regression - No imbalance correction\",f1_lg_imb, roc_lg_imb, accuracy_lg_imb])\n",
    "pt.add_row([\"Tuned Logistic Regression - Using Upsampled Data\",f1_lr, roc_auc_lr, accuracy_lr])\n",
    "pt.add_row([\"Tuned Random Forest - Using Upsampled Data\",f1_rf, roc_auc_rf, accuracy_rf])\n",
    "pt.add_row([\"Tuned ADA-Boost - Using Upsampled Data\",f1_ada, roc_auc_ada, accuracy_ada])\n",
    "pt.add_row([\"Tuned XG-Boost - Using Upsampled Data\",f1_xgb, roc_auc_xgb, accuracy_xgb])\n",
    "print(pt)"
   ]
  },
  {
   "cell_type": "code",
   "execution_count": null,
   "id": "d9616755",
   "metadata": {},
   "outputs": [],
   "source": []
  },
  {
   "cell_type": "code",
   "execution_count": null,
   "id": "173c5a1b",
   "metadata": {},
   "outputs": [],
   "source": []
  },
  {
   "cell_type": "code",
   "execution_count": 132,
   "id": "0851cc76",
   "metadata": {},
   "outputs": [],
   "source": [
    "# helper function for ROC_CURVE \n",
    "\n",
    "def plot_roc(y_test,lg_ibm_probs, lr_probs,rf_probs,xg_probs,ada_probs, axis):\n",
    "    lg_ibm_fpr, lg_ibm_tpr, lg_ibm_thresholds = roc_curve(y_test, lg_ibm_probs)\n",
    "    lr_fpr, lr_tpr, lr_thresholds = roc_curve(y_test, lr_probs)\n",
    "    rf_fpr, rf_tpr, rf_thresholds = roc_curve(y_test, rf_probs)\n",
    "    xg_fpr, xg_tpr, xg_thresholds = roc_curve(y_test, xg_probs)\n",
    "    ada_fpr, ada_tpr, ada_thresholds = roc_curve(y_test, ada_probs)\n",
    "    \n",
    "    ax.plot(lg_ibm_fpr, lg_ibm_tpr, label=f'Logistic Reg (with class imbalance) (area = {roc_lg_imb:.2f})', \n",
    "                                                                    alpha=0.5, color = 'purple')  \n",
    "    ax.plot(lr_fpr, lr_tpr, label=f'Logistic Regression (area = {roc_auc_lr:.2f})',alpha=0.5, color = 'b')\n",
    "    ax.plot(rf_fpr, rf_tpr, label=f'Random Forest (area = {roc_auc_rf:.2f})',alpha=0.5, color = 'g')  \n",
    "    ax.plot(xg_fpr, xg_tpr, label=f'XG-Boost (area = {roc_auc_xgb:.2f})',alpha=0.5, color = 'k')  \n",
    "    ax.plot(ada_fpr, ada_tpr, label=f'Ada-Boost (area = {roc_auc_ada:.2f})',alpha=0.5, color = 'brown')  \n",
    "    \n",
    "    \n",
    "    label_kwargs = {}\n",
    "    label_kwargs['bbox'] = dict(\n",
    "        boxstyle='round,pad=0.3', alpha=0.4,\n",
    "    )\n",
    "    ax.plot([0, 1], [0, 1],'r--')\n",
    "    ax.set_xlim([0.0, 1.0])\n",
    "    ax.set_ylim([0.0, 1.05])\n",
    "\n",
    "    ax.set_xlabel('False Positive Rate')\n",
    "    ax.set_ylabel('True Positive Rate')\n",
    "    ax.set_title('ROC curve')\n",
    "    ax.legend(loc=\"lower right\")\n"
   ]
  },
  {
   "cell_type": "code",
   "execution_count": 133,
   "id": "91e93151",
   "metadata": {},
   "outputs": [
    {
     "data": {
      "image/png": "[encoded data removed]",
      "text/plain": [
       "<Figure size 504x360 with 1 Axes>"
      ]
     },
     "metadata": {
      "needs_background": "light"
     },
     "output_type": "display_data"
    }
   ],
   "source": [
    "#ROC Curve values\n",
    "# plt.style.use('seaborn-white')\n",
    "plt.xkcd(randomness=0,scale=0.1)\n",
    "fig, ax = plt.subplots(nrows=2, ncols=2,figsize = (7,5))\n",
    "fig.patch.set_facecolor('None')\n",
    "fig.patch.set_alpha(0)\n",
    "plot_roc(scaler_y_test,y_pred_proba_lg_imb,y_pred_proba_lr,y_pred_proba_rf, y_pred_proba_xg,y_pred_proba_ada,ax)\n",
    "[ax.spines[key].set_visible(False) for key in ax.spines.keys() if key not in ['bottom','left']];\n",
    "ax.patch.set_facecolor('None')\n",
    "ax.patch.set_alpha(0)\n",
    "plt.tight_layout()\n"
   ]
  },
  {
   "cell_type": "code",
   "execution_count": null,
   "id": "0dbe0a3a",
   "metadata": {},
   "outputs": [],
   "source": []
  }
 ],
 "metadata": {
  "kernelspec": {
   "display_name": "Python 3 (ipykernel)",
   "language": "python",
   "name": "python3"
  },
  "language_info": {
   "codemirror_mode": {
    "name": "ipython",
    "version": 3
   },
   "file_extension": ".py",
   "mimetype": "text/x-python",
   "name": "python",
   "nbconvert_exporter": "python",
   "pygments_lexer": "ipython3",
   "version": "3.7.11"
  }
 },
 "nbformat": 4,
 "nbformat_minor": 5
}
